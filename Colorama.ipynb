{
 "cells": [
  {
   "cell_type": "markdown",
   "metadata": {},
   "source": [
    "# Colorama - Printing Colors in Python terminal :)"
   ]
  },
  {
   "cell_type": "code",
   "execution_count": 1,
   "metadata": {},
   "outputs": [
    {
     "name": "stdout",
     "output_type": "stream",
     "text": [
      "\u001b[31msome red text\n",
      "\u001b[40mand with a green background\n",
      "\u001b[2mand in dim text\n",
      "\u001b[0m\n",
      "back to normal now\n"
     ]
    }
   ],
   "source": [
    "from colorama import Fore, Back, Style\n",
    "print(Fore.RED + 'some red text')\n",
    "print(Back.BLACK + 'and with a green background')\n",
    "print(Style.DIM + 'and in dim text')\n",
    "print(Style.RESET_ALL)\n",
    "print('back to normal now')"
   ]
  },
  {
   "cell_type": "code",
   "execution_count": 2,
   "metadata": {},
   "outputs": [
    {
     "name": "stdout",
     "output_type": "stream",
     "text": [
      "\u001b[31msome red text\n",
      "\u001b[39m\n"
     ]
    }
   ],
   "source": [
    "print('\\033[31m' + 'some red text')\n",
    "print('\\033[39m') # and reset to default color"
   ]
  },
  {
   "cell_type": "code",
   "execution_count": null,
   "metadata": {},
   "outputs": [],
   "source": [
    "from colorama import init\n",
    "import sys\n",
    "from termcolor import colored\n",
    "\n",
    "# use Colorama to make Termcolor work on Windows too\n",
    "init()\n",
    "\n",
    "# then use Termcolor for all colored text output\n",
    "print(colored('Hello, World!', 'green', 'on_red'))"
   ]
  },
  {
   "cell_type": "markdown",
   "metadata": {},
   "source": [
    "<a href="https://github.com/Aditya-Bhate/Colorama-in-Python/blob/main/Screenshot%20(2366).png" height="200" /></a>"
   ]
  },
  {
   "cell_type": "code",
   "execution_count": null,
   "metadata": {},
   "outputs": [],
   "source": [
    "from colorama import init,Fore, Back, Style\n",
    "init(autoreset=True)\n",
    "print(Fore.RED + 'some red text')\n",
    "print('automatically back to default color again')"
   ]
  },
  {
   "cell_type": "markdown",
   "metadata": {},
   "source": [
    "![image info](https://github.com/Aditya-Bhate/Colorama-in-Python/blob/main/Screenshot%20(2365).png)"
   ]
  },
  {
   "cell_type": "markdown",
   "metadata": {},
   "source": [
    "## Color Codes: "
   ]
  },
  {
   "cell_type": "code",
   "execution_count": null,
   "metadata": {},
   "outputs": [],
   "source": [
    "# '''\n",
    "\n",
    "ESC [ 0 m       # reset all (colors and brightness)\\n\n",
    "ESC [ 1 m       # bright\n",
    "ESC [ 2 m       # dim (looks same as normal brightness)\n",
    "ESC [ 22 m      # normal brightness\n",
    "\n",
    "## FOREGROUND:\n",
    "\n",
    "ESC [ 30 m      # black\n",
    "ESC [ 31 m      # red\n",
    "ESC [ 32 m      # green\n",
    "ESC [ 33 m      # yellow\n",
    "ESC [ 34 m      # blue\n",
    "ESC [ 35 m      # magenta\n",
    "ESC [ 36 m      # cyan\n",
    "ESC [ 37 m      # white\n",
    "ESC [ 39 m      # reset\n",
    "\n",
    "## BACKGROUND\n",
    "\n",
    "ESC [ 40 m      # black\n",
    "ESC [ 41 m      # red\n",
    "ESC [ 42 m      # green\n",
    "ESC [ 43 m      # yellow\n",
    "ESC [ 44 m      # blue\n",
    "ESC [ 45 m      # magenta\n",
    "ESC [ 46 m      # cyan\n",
    "ESC [ 47 m      # white\n",
    "ESC [ 49 m      # reset\n",
    "\n",
    "## cursor positioning\n",
    "\n",
    "ESC [ y;x H     # position cursor at x across, y down\n",
    "ESC [ y;x f     # position cursor at x across, y down\n",
    "ESC [ n A       # move cursor n lines up\n",
    "ESC [ n B       # move cursor n lines down\n",
    "ESC [ n C       # move cursor n characters forward\n",
    "ESC [ n D       # move cursor n characters backward\n",
    "\n",
    "## clear the screen\n",
    "\n",
    "ESC [ mode J    # clear the screen\n",
    "\n",
    "## clear the line\n",
    "\n",
    "ESC [ mode K    # clear the line'''"
   ]
  }
 ],
 "metadata": {
  "kernelspec": {
   "display_name": "Python 3",
   "language": "python",
   "name": "python3"
  },
  "language_info": {
   "codemirror_mode": {
    "name": "ipython",
    "version": 3
   },
   "file_extension": ".py",
   "mimetype": "text/x-python",
   "name": "python",
   "nbconvert_exporter": "python",
   "pygments_lexer": "ipython3",
   "version": "3.8.8"
  }
 },
 "nbformat": 4,
 "nbformat_minor": 2
}
